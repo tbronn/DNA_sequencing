{
  "cells": [
    {
      "cell_type": "markdown",
      "metadata": {
        "id": "beg8NurGHusn"
      },
      "source": [
        "# Load libraries"
      ]
    },
    {
      "cell_type": "code",
      "execution_count": 1,
      "metadata": {
        "colab": {
          "base_uri": "https://localhost:8080/"
        },
        "id": "MA5gkCBrkTpp",
        "outputId": "f1bdf474-2178-4e7a-a799-9c5c15ed78f6"
      },
      "outputs": [
        {
          "output_type": "stream",
          "name": "stdout",
          "text": [
            "Looking in indexes: https://pypi.org/simple, https://us-python.pkg.dev/colab-wheels/public/simple/\n",
            "Collecting Biopython\n",
            "  Downloading biopython-1.79-cp37-cp37m-manylinux_2_17_x86_64.manylinux2014_x86_64.whl (2.6 MB)\n",
            "\u001b[K     |████████████████████████████████| 2.6 MB 30.1 MB/s \n",
            "\u001b[?25hRequirement already satisfied: numpy in /usr/local/lib/python3.7/dist-packages (from Biopython) (1.21.6)\n",
            "Installing collected packages: Biopython\n",
            "Successfully installed Biopython-1.79\n",
            "Looking in indexes: https://pypi.org/simple, https://us-python.pkg.dev/colab-wheels/public/simple/\n",
            "Requirement already satisfied: gdown in /usr/local/lib/python3.7/dist-packages (4.4.0)\n",
            "Requirement already satisfied: six in /usr/local/lib/python3.7/dist-packages (from gdown) (1.15.0)\n",
            "Requirement already satisfied: requests[socks] in /usr/local/lib/python3.7/dist-packages (from gdown) (2.23.0)\n",
            "Requirement already satisfied: tqdm in /usr/local/lib/python3.7/dist-packages (from gdown) (4.64.1)\n",
            "Requirement already satisfied: beautifulsoup4 in /usr/local/lib/python3.7/dist-packages (from gdown) (4.6.3)\n",
            "Requirement already satisfied: filelock in /usr/local/lib/python3.7/dist-packages (from gdown) (3.8.0)\n",
            "Requirement already satisfied: certifi>=2017.4.17 in /usr/local/lib/python3.7/dist-packages (from requests[socks]->gdown) (2022.9.24)\n",
            "Requirement already satisfied: chardet<4,>=3.0.2 in /usr/local/lib/python3.7/dist-packages (from requests[socks]->gdown) (3.0.4)\n",
            "Requirement already satisfied: idna<3,>=2.5 in /usr/local/lib/python3.7/dist-packages (from requests[socks]->gdown) (2.10)\n",
            "Requirement already satisfied: urllib3!=1.25.0,!=1.25.1,<1.26,>=1.21.1 in /usr/local/lib/python3.7/dist-packages (from requests[socks]->gdown) (1.24.3)\n",
            "Requirement already satisfied: PySocks!=1.5.7,>=1.5.6 in /usr/local/lib/python3.7/dist-packages (from requests[socks]->gdown) (1.7.1)\n",
            "Looking in indexes: https://pypi.org/simple, https://us-python.pkg.dev/colab-wheels/public/simple/\n",
            "Collecting pydna\n",
            "  Downloading pydna-4.0.7-py3-none-any.whl (111 kB)\n",
            "\u001b[K     |████████████████████████████████| 111 kB 23.0 MB/s \n",
            "\u001b[?25hRequirement already satisfied: prettytable in /usr/local/lib/python3.7/dist-packages (from pydna) (3.4.1)\n",
            "Requirement already satisfied: biopython in /usr/local/lib/python3.7/dist-packages (from pydna) (1.79)\n",
            "Requirement already satisfied: pyparsing in /usr/local/lib/python3.7/dist-packages (from pydna) (3.0.9)\n",
            "Requirement already satisfied: networkx in /usr/local/lib/python3.7/dist-packages (from pydna) (2.6.3)\n",
            "Requirement already satisfied: appdirs in /usr/local/lib/python3.7/dist-packages (from pydna) (1.4.4)\n",
            "Requirement already satisfied: requests in /usr/local/lib/python3.7/dist-packages (from pydna) (2.23.0)\n",
            "Requirement already satisfied: numpy in /usr/local/lib/python3.7/dist-packages (from biopython->pydna) (1.21.6)\n",
            "Requirement already satisfied: wcwidth in /usr/local/lib/python3.7/dist-packages (from prettytable->pydna) (0.2.5)\n",
            "Requirement already satisfied: importlib-metadata in /usr/local/lib/python3.7/dist-packages (from prettytable->pydna) (5.0.0)\n",
            "Requirement already satisfied: typing-extensions>=3.6.4 in /usr/local/lib/python3.7/dist-packages (from importlib-metadata->prettytable->pydna) (4.1.1)\n",
            "Requirement already satisfied: zipp>=0.5 in /usr/local/lib/python3.7/dist-packages (from importlib-metadata->prettytable->pydna) (3.9.0)\n",
            "Requirement already satisfied: idna<3,>=2.5 in /usr/local/lib/python3.7/dist-packages (from requests->pydna) (2.10)\n",
            "Requirement already satisfied: urllib3!=1.25.0,!=1.25.1,<1.26,>=1.21.1 in /usr/local/lib/python3.7/dist-packages (from requests->pydna) (1.24.3)\n",
            "Requirement already satisfied: chardet<4,>=3.0.2 in /usr/local/lib/python3.7/dist-packages (from requests->pydna) (3.0.4)\n",
            "Requirement already satisfied: certifi>=2017.4.17 in /usr/local/lib/python3.7/dist-packages (from requests->pydna) (2022.9.24)\n",
            "Installing collected packages: pydna\n",
            "Successfully installed pydna-4.0.7\n"
          ]
        }
      ],
      "source": [
        "!pip install Biopython\n",
        "!pip install gdown\n",
        "!pip install pydna"
      ]
    },
    {
      "cell_type": "code",
      "execution_count": 2,
      "metadata": {
        "id": "dixMtNwT35UB",
        "colab": {
          "base_uri": "https://localhost:8080/"
        },
        "outputId": "598e5bb8-f892-4b64-e3d8-0ae05557e097"
      },
      "outputs": [
        {
          "output_type": "stream",
          "name": "stdout",
          "text": [
            "Mounted at /content/gdrive\n"
          ]
        }
      ],
      "source": [
        "from google.colab import drive\n",
        "drive.mount('/content/gdrive')"
      ]
    },
    {
      "cell_type": "code",
      "execution_count": 3,
      "metadata": {
        "id": "yEeZiGC6kY_D"
      },
      "outputs": [],
      "source": [
        "from Bio import SeqIO\n",
        "import numpy as np\n",
        "import matplotlib.pyplot as plt\n",
        "import json\n",
        "import gdown\n",
        "import gc\n",
        "from pydna.assembly import Assembly\n",
        "from pydna.dseqrecord import Dseqrecord\n",
        "from pydna.design import primer_design, assembly_fragments\n",
        "%matplotlib inline"
      ]
    },
    {
      "cell_type": "markdown",
      "metadata": {
        "id": "tNB_NNzKIS3H"
      },
      "source": [
        "## Load DNK sequences"
      ]
    },
    {
      "cell_type": "markdown",
      "source": [
        "This part for loading data from google drive"
      ],
      "metadata": {
        "id": "jqirdRkr0Wb8"
      }
    },
    {
      "cell_type": "code",
      "source": [
        "# This cell is necessary only for creating kmers\n",
        "# We alredy did it, then it's not necessary execute this cell\n",
        "\n",
        "url = 'https://drive.google.com/uc?id=1P-dkZg7Uy0NPdzUwY-a-qpTsNfw4FURX'\n",
        "output = 'salmonella-enterica.reads.fna'\n",
        "gdown.download(url, output, quiet=False)\n",
        "\n",
        "url = 'https://drive.google.com/uc?id=1Or3tTlBb98A8u84XaCEpZPiK-IOYjzgh'\n",
        "output = 'salmonella-enterica-variant.reads.fna'\n",
        "gdown.download(url, output, quiet=False)"
      ],
      "metadata": {
        "id": "TVvk9WM2x7EW",
        "colab": {
          "base_uri": "https://localhost:8080/",
          "height": 174
        },
        "outputId": "e1280e9c-d257-46dc-a42b-e1dbdf2dd5a1"
      },
      "execution_count": 4,
      "outputs": [
        {
          "output_type": "stream",
          "name": "stderr",
          "text": [
            "Downloading...\n",
            "From: https://drive.google.com/uc?id=1P-dkZg7Uy0NPdzUwY-a-qpTsNfw4FURX\n",
            "To: /content/salmonella-enterica.reads.fna\n",
            "100%|██████████| 523M/523M [00:09<00:00, 52.9MB/s]\n",
            "Downloading...\n",
            "From: https://drive.google.com/uc?id=1Or3tTlBb98A8u84XaCEpZPiK-IOYjzgh\n",
            "To: /content/salmonella-enterica-variant.reads.fna\n",
            "100%|██████████| 523M/523M [00:08<00:00, 64.2MB/s]\n"
          ]
        },
        {
          "output_type": "execute_result",
          "data": {
            "text/plain": [
              "'salmonella-enterica-variant.reads.fna'"
            ],
            "application/vnd.google.colaboratory.intrinsic+json": {
              "type": "string"
            }
          },
          "metadata": {},
          "execution_count": 4
        }
      ]
    },
    {
      "cell_type": "markdown",
      "metadata": {
        "id": "D2cGjtXE8J8z"
      },
      "source": [
        "## Create new k-mers"
      ]
    },
    {
      "cell_type": "code",
      "source": [
        "def build_kmers(sequence, dict_kmers, ksize):\n",
        "    \"\"\"\n",
        "    Build k-mers from sequence\n",
        "    \"\"\"\n",
        "    n_kmers = len(sequence) - ksize + 1\n",
        "    for i in range(n_kmers):\n",
        "        kmer = sequence[i:i + ksize]\n",
        "        if kmer not in dict_kmers:\n",
        "            dict_kmers[kmer] = 0\n",
        "        dict_kmers[kmer] += 1\n",
        "    return"
      ],
      "metadata": {
        "id": "JRY3xHwK0i-G"
      },
      "execution_count": 5,
      "outputs": []
    },
    {
      "cell_type": "markdown",
      "source": [
        "First of all we choose k (hyper-parameter) as number as give us distribution (distribution of values of dictionary of k mers) that looks like Poisson distribution. And then create dicts with kmers"
      ],
      "metadata": {
        "id": "bXe7kJ9hzaLK"
      }
    },
    {
      "cell_type": "code",
      "execution_count": 8,
      "metadata": {
        "id": "tLtmol0vlkVK",
        "collapsed": true,
        "outputId": "b203455b-25c1-44bb-e466-c71b720258c6",
        "colab": {
          "base_uri": "https://localhost:8080/",
          "height": 235
        }
      },
      "outputs": [
        {
          "output_type": "error",
          "ename": "FileNotFoundError",
          "evalue": "ignored",
          "traceback": [
            "\u001b[0;31m---------------------------------------------------------------------------\u001b[0m",
            "\u001b[0;31mFileNotFoundError\u001b[0m                         Traceback (most recent call last)",
            "\u001b[0;32m<ipython-input-8-2a6b26e66649>\u001b[0m in \u001b[0;36m<module>\u001b[0;34m\u001b[0m\n\u001b[1;32m     10\u001b[0m     \u001b[0msequence\u001b[0m \u001b[0;34m=\u001b[0m \u001b[0mstr\u001b[0m\u001b[0;34m(\u001b[0m\u001b[0mfasta\u001b[0m\u001b[0;34m.\u001b[0m\u001b[0mseq\u001b[0m\u001b[0;34m)\u001b[0m\u001b[0;34m\u001b[0m\u001b[0;34m\u001b[0m\u001b[0m\n\u001b[1;32m     11\u001b[0m     \u001b[0mbuild_kmers\u001b[0m\u001b[0;34m(\u001b[0m\u001b[0msequence\u001b[0m\u001b[0;34m,\u001b[0m \u001b[0mdict_kmers\u001b[0m\u001b[0;34m,\u001b[0m \u001b[0mKSIZE\u001b[0m\u001b[0;34m)\u001b[0m\u001b[0;34m\u001b[0m\u001b[0;34m\u001b[0m\u001b[0m\n\u001b[0;32m---> 12\u001b[0;31m   \u001b[0mjson\u001b[0m\u001b[0;34m.\u001b[0m\u001b[0mdump\u001b[0m\u001b[0;34m(\u001b[0m\u001b[0mdict_kmers\u001b[0m\u001b[0;34m,\u001b[0m \u001b[0mopen\u001b[0m\u001b[0;34m(\u001b[0m\u001b[0;34mf\"/content/gdrive/MyDrive/Bioinformatics/dict_kmers_{KSIZE}.txt\"\u001b[0m\u001b[0;34m,\u001b[0m\u001b[0;34m'w'\u001b[0m\u001b[0;34m)\u001b[0m\u001b[0;34m)\u001b[0m\u001b[0;34m\u001b[0m\u001b[0;34m\u001b[0m\u001b[0m\n\u001b[0m\u001b[1;32m     13\u001b[0m   \u001b[0;32mdel\u001b[0m \u001b[0mdict_kmers\u001b[0m\u001b[0;34m\u001b[0m\u001b[0;34m\u001b[0m\u001b[0m\n\u001b[1;32m     14\u001b[0m \u001b[0;34m\u001b[0m\u001b[0m\n",
            "\u001b[0;31mFileNotFoundError\u001b[0m: [Errno 2] No such file or directory: '/content/gdrive/MyDrive/Bioinformatics/dict_kmers_23.txt'"
          ]
        }
      ],
      "source": [
        "input_file = \"./salmonella-enterica.reads.fna\"\n",
        "input_file_var = \"./salmonella-enterica-variant.reads.fna\"\n",
        "\n",
        "\n",
        "for KSIZE in [23]:\n",
        "\n",
        "  fasta_sequences = SeqIO.parse(open(input_file), 'fasta')\n",
        "  dict_kmers = dict()\n",
        "  for fasta in fasta_sequences:\n",
        "    sequence = str(fasta.seq)\n",
        "    build_kmers(sequence, dict_kmers, KSIZE)\n",
        "  json.dump(dict_kmers, open(f\"/content/gdrive/MyDrive/Bioinformatics/dict_kmers_{KSIZE}.txt\",'w'))\n",
        "  del dict_kmers\n",
        "\n",
        "  fasta_sequences_var = SeqIO.parse(open(input_file_var), 'fasta')\n",
        "  dict_kmers_variant = dict()\n",
        "  for fasta in fasta_sequences_var:\n",
        "    sequence = str(fasta.seq)\n",
        "    build_kmers(sequence, dict_kmers_variant, KSIZE)\n",
        "  json.dump(dict_kmers_variant, open(f\"/content/gdrive/MyDrive/Bioinformatics/dict_kmers_var_{KSIZE}.txt\",'w'))\n",
        "  del dict_kmers_variant\n",
        "\n",
        "  gc.collect()"
      ]
    },
    {
      "cell_type": "markdown",
      "metadata": {
        "id": "DZdrMMtV8q-O"
      },
      "source": [
        "## Load and printing existing k-mers"
      ]
    },
    {
      "cell_type": "markdown",
      "source": [
        "Let's print our values of k_mers dictionary.\n",
        "\n",
        "As we can see (first row of the plot) we have a lot of unique k-mers with amount 1-2. It means that it's a mistake of reading sequence. The mistakes distributed randomly and can't have a lot of amount of such combination unlike mutation. \\\\\n",
        "Second row demonstrates us the distribution of k-mers which can be mutations."
      ],
      "metadata": {
        "id": "IMvf9GiS1mUS"
      }
    },
    {
      "cell_type": "code",
      "execution_count": 7,
      "metadata": {
        "id": "lmaaY7eZXeuE",
        "colab": {
          "base_uri": "https://localhost:8080/",
          "height": 174
        },
        "outputId": "23790ed9-b178-4fb8-91a6-0aa96ba1d88f"
      },
      "outputs": [
        {
          "output_type": "stream",
          "name": "stderr",
          "text": [
            "Downloading...\n",
            "From: https://drive.google.com/uc?id=1VKZ_zQZh9NGlKxvQukRhTZ0iIlbEveO2\n",
            "To: /content/dict_kmers_25.txt\n",
            "100%|██████████| 1.17G/1.17G [00:09<00:00, 124MB/s]\n",
            "Downloading...\n",
            "From: https://drive.google.com/uc?id=1-0CugTOi0lxJtNPbswyS30L5hFrxZ70a\n",
            "To: /content/dict_kmers_var_25.txt\n",
            "100%|██████████| 1.17G/1.17G [00:15<00:00, 73.6MB/s]\n"
          ]
        },
        {
          "output_type": "execute_result",
          "data": {
            "text/plain": [
              "'dict_kmers_var_25.txt'"
            ],
            "application/vnd.google.colaboratory.intrinsic+json": {
              "type": "string"
            }
          },
          "metadata": {},
          "execution_count": 7
        }
      ],
      "source": [
        "# Read the data\n",
        "\n",
        "# url = 'https://drive.google.com/uc?id=1FnlC93Km_OjfYyOJLCWic_A0f48QDw84'\n",
        "# output = 'dict_kmers_21.txt'\n",
        "# gdown.download(url, output, quiet=False)\n",
        "\n",
        "# url = 'https://drive.google.com/uc?id=1-4A-WrhpXSOO_J4ptE7k4TZRj9bD1dpj'\n",
        "# output = 'dict_kmers_var_21.txt'\n",
        "# gdown.download(url, output, quiet=False)\n",
        "\n",
        "\n",
        "# url = 'https://drive.google.com/uc?id=1-6DjoR1Iiqe3_Vbtq9WZuIvHNIhwvMxZ'\n",
        "# output = 'dict_kmers_23.txt'\n",
        "# gdown.download(url, output, quiet=False)\n",
        "\n",
        "# url = 'https://drive.google.com/uc?id=1-BORl3ZL1ZZJLshzBRrMveABjfsvYpXM'\n",
        "# output = 'dict_kmers_var_23.txt'\n",
        "# gdown.download(url, output, quiet=False)\n",
        "\n",
        "\n",
        "url = 'https://drive.google.com/uc?id=1VKZ_zQZh9NGlKxvQukRhTZ0iIlbEveO2'\n",
        "output = 'dict_kmers_25.txt'\n",
        "gdown.download(url, output, quiet=False)\n",
        "\n",
        "url = 'https://drive.google.com/uc?id=1-0CugTOi0lxJtNPbswyS30L5hFrxZ70a'\n",
        "output = 'dict_kmers_var_25.txt'\n",
        "gdown.download(url, output, quiet=False)"
      ]
    },
    {
      "cell_type": "code",
      "source": [
        "kmers_dict = json.load(open(f\"./dict_kmers_23.txt\"))\n",
        "kmers_dict_var = json.load(open(f\"./dict_kmers_var_23.txt\"))"
      ],
      "metadata": {
        "id": "Lr3W1KqPdzlD"
      },
      "execution_count": null,
      "outputs": []
    },
    {
      "cell_type": "code",
      "source": [
        "f, axarr = plt.subplots(2, 3, figsize=(10, 10))\n",
        "kmers_arr = np.array(list(kmers_dict.values()))\n",
        "kmers_arr_var = np.array(list(kmers_dict_var.values()))\n",
        "for enum in range(2):\n",
        "\n",
        "  if enum == 0:\n",
        "    axarr[enum,0].hist(kmers_arr,range = (0,80),bins = 80, label='The original',\n",
        "                    color = 'blue')\n",
        "    axarr[enum,0].set_title(f' Original (k = 21)')\n",
        "\n",
        "    axarr[enum,1].hist(kmers_arr_var,range = (0,80),bins = 80, label='The variant',\n",
        "                    color = 'red')\n",
        "    axarr[enum,1].set_title(f' Variant (k = 21)')\n",
        "\n",
        "    axarr[enum,2].hist(kmers_arr,range = (0,80),bins = 80, label='The original',\n",
        "                    color = 'blue', alpha = 0.5)\n",
        "    axarr[enum,2].hist(kmers_arr_var,range = (0,80),bins = 80, label='The variant',\n",
        "                    color = 'red', alpha = 0.5)\n",
        "    axarr[enum,2].set_title(f' Original + var simultaneously (k = 21)')\n",
        "    \n",
        "\n",
        "  else:\n",
        "    axarr[enum,0].hist(kmers_arr,range = (20,80),bins = 80, label='The original',\n",
        "                    color = 'blue')\n",
        "    axarr[enum,0].set_title(f' Original (k = 21)')\n",
        "\n",
        "    axarr[enum,1].hist(kmers_arr_var,range = (20,80),bins = 80, label='The variant',\n",
        "                    color = 'red')\n",
        "    axarr[enum,1].set_title(f' Variant (k = 21)')\n",
        "\n",
        "    axarr[enum,2].hist(kmers_arr,range = (20,80),bins = 80, label='The original',\n",
        "                    color = 'blue', alpha = 0.5)\n",
        "    axarr[enum,2].hist(kmers_arr_var,range = (20,80),bins = 80, label='The variant',\n",
        "                    color = 'red', alpha = 0.5)\n",
        "    axarr[enum,2].set_title(f' Original + var simultaneously (k = 21)')\n",
        "\n",
        "plt.show()"
      ],
      "metadata": {
        "id": "7fptHP9P35cd"
      },
      "execution_count": null,
      "outputs": []
    },
    {
      "cell_type": "markdown",
      "source": [
        "Then let's сount how many times each kmer, which is missing in first dictionary but appears in the second dictionary."
      ],
      "metadata": {
        "id": "wZdjKUN74snF"
      }
    },
    {
      "cell_type": "code",
      "source": [
        "# Here we check: doesn't kmer appear in second dictionary and if it's so\n",
        "# we add frequency this kmer (which doesn't appear) in list\n",
        "\n",
        "# Missing kmers in original\n",
        "kmers_freq = [v for k, v in kmers_dict.items() if k not in kmers_dict_var]\n",
        "# Missing kmers in variant\n",
        "kmers_freq_var = [v for k, v in kmers_dict_var.items() if k not in kmers_dict]\n"
      ],
      "metadata": {
        "id": "wdKdQTD45isj"
      },
      "execution_count": null,
      "outputs": []
    },
    {
      "cell_type": "markdown",
      "source": [
        "We use here the same idea that we used above (about outliers)"
      ],
      "metadata": {
        "id": "jIf6zhc07JER"
      }
    },
    {
      "cell_type": "code",
      "source": [
        "f, axarr = plt.subplots(2, 3, figsize=(10, 10))\n",
        "for enum in range(2):\n",
        "\n",
        "  if enum == 0:\n",
        "    axarr[enum,0].hist(kmers_freq,range = (0,80),bins = 80, label='The original',\n",
        "                    color = 'blue')\n",
        "    axarr[enum,0].set_title(f' Original (k = 21)')\n",
        "\n",
        "    axarr[enum,1].hist(kmers_freq_var,range = (0,80),bins = 80, label='The variant',\n",
        "                    color = 'red')\n",
        "    axarr[enum,1].set_title(f' Variant (k = 21)')\n",
        "\n",
        "    axarr[enum,2].hist(kmers_freq,range = (0,80),bins = 80, label='The original',\n",
        "                    color = 'blue', alpha = 0.5)\n",
        "    axarr[enum,2].hist(kmers_freq_var,range = (0,80),bins = 80, label='The variant',\n",
        "                    color = 'red', alpha = 0.5)\n",
        "    axarr[enum,2].set_title(f' Original + var simultaneously (k = 21)')\n",
        "    \n",
        "\n",
        "  else:\n",
        "    axarr[enum,0].hist(kmers_freq,range = (40,50), bins = 30, label='The original',\n",
        "                    color = 'blue')\n",
        "    axarr[enum,0].set_title(f' Original (k = 21)')\n",
        "\n",
        "    axarr[enum,1].hist(kmers_freq_var,range = (30,50), bins = 30, label='The variant',\n",
        "                    color = 'red')\n",
        "    axarr[enum,1].set_title(f' Variant (k = 21)')\n",
        "\n",
        "    axarr[enum,2].hist(kmers_freq,range = (30,50), bins = 30, label='The original',\n",
        "                    color = 'blue', alpha = 0.5)\n",
        "    axarr[enum,2].hist(kmers_freq_var,range = (30,50), bins = 30, label='The variant',\n",
        "                    color = 'red', alpha = 0.5)\n",
        "    axarr[enum,2].set_title(f' Original + var simultaneously (k = 21)')\n",
        "\n",
        "plt.show()"
      ],
      "metadata": {
        "id": "aH71HUzD9GJY"
      },
      "execution_count": null,
      "outputs": []
    },
    {
      "cell_type": "code",
      "source": [
        "del kmers_freq, kmers_freq_var, kmers_arr, kmers_arr_var\n",
        "gc.collect()"
      ],
      "metadata": {
        "colab": {
          "base_uri": "https://localhost:8080/"
        },
        "id": "WMrDhKRtjT_b",
        "outputId": "db0662e2-12b6-4882-c000-e61ef5ad06be"
      },
      "execution_count": null,
      "outputs": [
        {
          "output_type": "execute_result",
          "data": {
            "text/plain": [
              "247"
            ]
          },
          "metadata": {},
          "execution_count": 12
        }
      ]
    },
    {
      "cell_type": "markdown",
      "source": [
        "It's easy to see that we have couple part of histograms. We will work with each of them separately. \\\\\n"
      ],
      "metadata": {
        "id": "__EeQhr__jV2"
      }
    },
    {
      "cell_type": "markdown",
      "source": [
        "First of all we will try to find mistake in right part of that data."
      ],
      "metadata": {
        "id": "zxuDBM_KiG92"
      }
    },
    {
      "cell_type": "code",
      "source": [
        "kmers_assembly = [Dseqrecord(k) for k, f in kmers_dict.items() if ((f > 42.5) & (f < 50) & (k not in kmers_dict_var))]"
      ],
      "metadata": {
        "id": "5_ex5U2Rxvsc"
      },
      "execution_count": null,
      "outputs": []
    },
    {
      "cell_type": "code",
      "source": [
        "seq = Assembly(kmers_assembly, limit = 22).assemble_linear()\n",
        "print(seq[0].seq.watson)"
      ],
      "metadata": {
        "colab": {
          "base_uri": "https://localhost:8080/"
        },
        "id": "im4mTSWgZ_LN",
        "outputId": "26961380-909f-41bc-c397-4060322afb6d"
      },
      "execution_count": null,
      "outputs": [
        {
          "output_type": "stream",
          "name": "stdout",
          "text": [
            "CTACACCTAGCTTCTGGGCGAGTTTACGGGTTGT\n"
          ]
        }
      ]
    },
    {
      "cell_type": "code",
      "source": [
        "kmers_assembly_var = [Dseqrecord(k) for k, f in kmers_dict_var.items() if ((f > 40) & (f < 50) & (k not in kmers_dict))]"
      ],
      "metadata": {
        "id": "6JQVYC6BdgeM"
      },
      "execution_count": null,
      "outputs": []
    },
    {
      "cell_type": "code",
      "source": [
        "seq_var = Assembly(kmers_assembly_var,limit = 22).assemble_linear()\n",
        "print(seq_var[0].seq.watson)"
      ],
      "metadata": {
        "colab": {
          "base_uri": "https://localhost:8080/"
        },
        "id": "TiZpqKteh61o",
        "outputId": "573b9be6-f048-4c71-d7ad-b338ef7f73d8"
      },
      "execution_count": null,
      "outputs": [
        {
          "output_type": "stream",
          "name": "stdout",
          "text": [
            "CTACACCTAGCTTCTGGGCGAGGGGACGGGTTGTTAAACCTTCGATT\n"
          ]
        }
      ]
    },
    {
      "cell_type": "markdown",
      "source": [
        "Now let's compare this strings \\\\\n",
        "\n",
        "CTACACCTAGCTTCTGGGCGAG_TTT_ACGGGTTGT \\\\\n",
        "CTACACCTAGCTTCTGGGCGAG_GGG_ACGGGTTGT\n",
        "\n",
        "Easy to see the mutation!"
      ],
      "metadata": {
        "id": "foQFsUPKiP37"
      }
    },
    {
      "cell_type": "code",
      "source": [
        "kmers_assembly = [Dseqrecord(k) for k, f in kmers_dict.items() if ((f > 40) & (f < 42.5) & (k not in kmers_dict_var))]"
      ],
      "metadata": {
        "id": "XpY7nPSTeAEq"
      },
      "execution_count": null,
      "outputs": []
    },
    {
      "cell_type": "code",
      "source": [
        "seq = Assembly(kmers_assembly,limit = 22).assemble_linear()\n",
        "print(seq[0].seq.watson)"
      ],
      "metadata": {
        "colab": {
          "base_uri": "https://localhost:8080/"
        },
        "id": "deTaC1dpiYoV",
        "outputId": "bf641711-015f-46e9-c8ce-0614c6f3e474"
      },
      "execution_count": null,
      "outputs": [
        {
          "output_type": "stream",
          "name": "stdout",
          "text": [
            "CAACCCGTAAACTCGCCCAGAAGCTAGGTG\n"
          ]
        }
      ]
    },
    {
      "cell_type": "code",
      "source": [
        "kmers_assembly_var = [Dseqrecord(k) for k, f in kmers_dict_var.items() if ((f > 30) & (f < 35) & (k not in kmers_dict))]"
      ],
      "metadata": {
        "id": "K0gd_rnnoKX1"
      },
      "execution_count": null,
      "outputs": []
    },
    {
      "cell_type": "code",
      "source": [
        "seq_var = Assembly(kmers_assembly_var,limit = 22).assemble_linear()\n",
        "print(seq_var[0].seq.watson)"
      ],
      "metadata": {
        "colab": {
          "base_uri": "https://localhost:8080/"
        },
        "id": "VYOAw7yjiget",
        "outputId": "df3dd212-0c44-4251-89d9-dce25744641b"
      },
      "execution_count": null,
      "outputs": [
        {
          "output_type": "stream",
          "name": "stdout",
          "text": [
            "AATCGAAGGTTTAACAACCCGTCCCCTCGCCCAGAAGCTAGGTGTAG\n"
          ]
        }
      ]
    },
    {
      "cell_type": "markdown",
      "source": [
        "The next mutation is: \\\\\n",
        "CAACCCGT_AAA_CTCGCCCAGAAGCTAGGTG \\\\\n",
        "CAACCCGT_CCC_CTCGCCCAGAAGCTAGGTG"
      ],
      "metadata": {
        "id": "Lk3ng764oUdX"
      }
    }
  ],
  "metadata": {
    "colab": {
      "collapsed_sections": [],
      "provenance": []
    },
    "kernelspec": {
      "display_name": "Python 3",
      "name": "python3"
    },
    "language_info": {
      "name": "python"
    }
  },
  "nbformat": 4,
  "nbformat_minor": 0
}