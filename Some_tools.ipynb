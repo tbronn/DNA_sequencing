{
  "nbformat": 4,
  "nbformat_minor": 0,
  "metadata": {
    "colab": {
      "provenance": []
    },
    "kernelspec": {
      "name": "python3",
      "display_name": "Python 3"
    },
    "language_info": {
      "name": "python"
    }
  },
  "cells": [
    {
      "cell_type": "markdown",
      "source": [
        "Here we present some tools which were used preparing the experiments."
      ],
      "metadata": {
        "id": "YntRYnHPG-IF"
      }
    },
    {
      "cell_type": "code",
      "source": [
        "!pip install Biopython\n",
        "!pip install gdown\n",
        "!pip install pydna"
      ],
      "metadata": {
        "id": "oetulKggAVei"
      },
      "execution_count": null,
      "outputs": []
    },
    {
      "cell_type": "code",
      "source": [
        "from google.colab import drive\n",
        "drive.mount('/content/gdrive')"
      ],
      "metadata": {
        "id": "guoyJf-ZAW86"
      },
      "execution_count": null,
      "outputs": []
    },
    {
      "cell_type": "code",
      "source": [
        "from Bio import SeqIO\n",
        "import numpy as np\n",
        "import matplotlib.pyplot as plt\n",
        "import json\n",
        "import gdown\n",
        "import gc\n",
        "from pydna.assembly import Assembly\n",
        "from pydna.dseqrecord import Dseqrecord\n",
        "from pydna.design import primer_design, assembly_fragments\n",
        "%matplotlib inline"
      ],
      "metadata": {
        "id": "KSpl5_M8AW_a"
      },
      "execution_count": null,
      "outputs": []
    },
    {
      "cell_type": "code",
      "source": [
        "url = 'https://drive.google.com/uc?id=1P-dkZg7Uy0NPdzUwY-a-qpTsNfw4FURX'\n",
        "output = 'salmonella-enterica.reads.fna'\n",
        "gdown.download(url, output, quiet=False)\n",
        "\n",
        "url = 'https://drive.google.com/uc?id=1Or3tTlBb98A8u84XaCEpZPiK-IOYjzgh'\n",
        "output = 'salmonella-enterica-variant.reads.fna'\n",
        "gdown.download(url, output, quiet=False)"
      ],
      "metadata": {
        "id": "KzngT1riAo9d"
      },
      "execution_count": null,
      "outputs": []
    },
    {
      "cell_type": "code",
      "source": [
        "def build_kmers(sequence, dict_kmers, ksize):\n",
        "    \"\"\"\n",
        "    Build k-mers from sequence\n",
        "    \"\"\"\n",
        "    n_kmers = len(sequence) - ksize + 1\n",
        "    for i in range(n_kmers):\n",
        "        kmer = sequence[i:i + ksize]\n",
        "        if kmer not in dict_kmers:\n",
        "            dict_kmers[kmer] = 0\n",
        "        dict_kmers[kmer] += 1\n",
        "    return"
      ],
      "metadata": {
        "id": "EpF2ch6jAXB0"
      },
      "execution_count": null,
      "outputs": []
    },
    {
      "cell_type": "code",
      "source": [
        "def check_kmer(path, KSIZE):\n",
        "  dict_kmers = {}\n",
        "  fasta_sequences = SeqIO.parse(open(path), 'fasta')\n",
        "  for fasta in fasta_sequences:\n",
        "    build_kmers(str(fasta.seq), dict_kmers, KSIZE)\n",
        "  return dict_kmers"
      ],
      "metadata": {
        "id": "OrV_1BIAAXEL"
      },
      "execution_count": null,
      "outputs": []
    },
    {
      "cell_type": "code",
      "source": [
        "# Missing kmers in original\n",
        "kmers_freq = [v for k, v in kmers_dict.items() if k not in kmers_dict_var]\n",
        "# Missing kmers in variant\n",
        "kmers_freq_var = [v for k, v in kmers_dict_var.items() if k not in kmers_dict]"
      ],
      "metadata": {
        "id": "Ti9xs3X0AXGl"
      },
      "execution_count": null,
      "outputs": []
    },
    {
      "cell_type": "code",
      "source": [
        "kmers_assembly = [Dseqrecord(k) for k, f in kmers_dict.items() if ((f > 42.5) & (f < 50) & (k not in kmers_dict_var))]"
      ],
      "metadata": {
        "id": "o62FZEMTGNjw"
      },
      "execution_count": null,
      "outputs": []
    },
    {
      "cell_type": "code",
      "source": [
        "seq = Assembly(kmers_assembly, limit = 22).assemble_linear()\n",
        "print(seq[0].seq.watson)"
      ],
      "metadata": {
        "id": "ky2jOmutGObV"
      },
      "execution_count": null,
      "outputs": []
    },
    {
      "cell_type": "code",
      "source": [
        "kmers_assembly_var = [Dseqrecord(k) for k, f in kmers_dict_var.items() if ((f > 40) & (f < 50) & (k not in kmers_dict))]"
      ],
      "metadata": {
        "id": "HEBmoDsMGY1q"
      },
      "execution_count": null,
      "outputs": []
    },
    {
      "cell_type": "code",
      "source": [
        "seq_var = Assembly(kmers_assembly_var,limit = 22).assemble_linear()\n",
        "print(seq_var[0].seq.watson)"
      ],
      "metadata": {
        "id": "faucrk3PGZ3D"
      },
      "execution_count": null,
      "outputs": []
    },
    {
      "cell_type": "code",
      "source": [
        "kmers_assembly = [Dseqrecord(k) for k, f in kmers_dict.items() if ((f > 40) & (f < 42.5) & (k not in kmers_dict_var))]"
      ],
      "metadata": {
        "id": "danw9NnXGbjb"
      },
      "execution_count": null,
      "outputs": []
    },
    {
      "cell_type": "code",
      "source": [
        "seq = Assembly(kmers_assembly,limit = 22).assemble_linear()\n",
        "print(seq[0].seq.watson)"
      ],
      "metadata": {
        "id": "9HB2oKS_GdVF"
      },
      "execution_count": null,
      "outputs": []
    },
    {
      "cell_type": "code",
      "source": [
        "kmers_assembly_var = [Dseqrecord(k) for k, f in kmers_dict_var.items() if ((f > 30) & (f < 35) & (k not in kmers_dict))]"
      ],
      "metadata": {
        "id": "csWtb_cKGe0n"
      },
      "execution_count": null,
      "outputs": []
    },
    {
      "cell_type": "code",
      "source": [
        "seq_var = Assembly(kmers_assembly_var,limit = 22).assemble_linear()\n",
        "print(seq_var[0].seq.watson)"
      ],
      "metadata": {
        "id": "-UuA68vEGfof"
      },
      "execution_count": null,
      "outputs": []
    }
  ]
}