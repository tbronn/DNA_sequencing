{
  "nbformat": 4,
  "nbformat_minor": 0,
  "metadata": {
    "colab": {
      "provenance": [],
      "collapsed_sections": []
    },
    "kernelspec": {
      "name": "python3",
      "display_name": "Python 3"
    },
    "language_info": {
      "name": "python"
    }
  },
  "cells": [
    {
      "cell_type": "markdown",
      "source": [
        "Here we present some tools which were used preparing the experiments."
      ],
      "metadata": {
        "id": "YntRYnHPG-IF"
      }
    },
    {
      "cell_type": "code",
      "source": [
        "!pip install Biopython\n",
        "!pip install gdown\n",
        "!pip install pydna"
      ],
      "metadata": {
        "colab": {
          "base_uri": "https://localhost:8080/"
        },
        "id": "oetulKggAVei",
        "outputId": "7b1ca2d6-6e39-405b-a3af-5757ab572f9e"
      },
      "execution_count": 1,
      "outputs": [
        {
          "output_type": "stream",
          "name": "stdout",
          "text": [
            "Looking in indexes: https://pypi.org/simple, https://us-python.pkg.dev/colab-wheels/public/simple/\n",
            "Collecting Biopython\n",
            "  Downloading biopython-1.79-cp37-cp37m-manylinux_2_17_x86_64.manylinux2014_x86_64.whl (2.6 MB)\n",
            "\u001b[K     |████████████████████████████████| 2.6 MB 4.2 MB/s \n",
            "\u001b[?25hRequirement already satisfied: numpy in /usr/local/lib/python3.7/dist-packages (from Biopython) (1.21.6)\n",
            "Installing collected packages: Biopython\n",
            "Successfully installed Biopython-1.79\n",
            "Looking in indexes: https://pypi.org/simple, https://us-python.pkg.dev/colab-wheels/public/simple/\n",
            "Requirement already satisfied: gdown in /usr/local/lib/python3.7/dist-packages (4.4.0)\n",
            "Requirement already satisfied: six in /usr/local/lib/python3.7/dist-packages (from gdown) (1.15.0)\n",
            "Requirement already satisfied: tqdm in /usr/local/lib/python3.7/dist-packages (from gdown) (4.64.1)\n",
            "Requirement already satisfied: requests[socks] in /usr/local/lib/python3.7/dist-packages (from gdown) (2.23.0)\n",
            "Requirement already satisfied: filelock in /usr/local/lib/python3.7/dist-packages (from gdown) (3.8.0)\n",
            "Requirement already satisfied: beautifulsoup4 in /usr/local/lib/python3.7/dist-packages (from gdown) (4.6.3)\n",
            "Requirement already satisfied: certifi>=2017.4.17 in /usr/local/lib/python3.7/dist-packages (from requests[socks]->gdown) (2022.9.24)\n",
            "Requirement already satisfied: idna<3,>=2.5 in /usr/local/lib/python3.7/dist-packages (from requests[socks]->gdown) (2.10)\n",
            "Requirement already satisfied: chardet<4,>=3.0.2 in /usr/local/lib/python3.7/dist-packages (from requests[socks]->gdown) (3.0.4)\n",
            "Requirement already satisfied: urllib3!=1.25.0,!=1.25.1,<1.26,>=1.21.1 in /usr/local/lib/python3.7/dist-packages (from requests[socks]->gdown) (1.24.3)\n",
            "Requirement already satisfied: PySocks!=1.5.7,>=1.5.6 in /usr/local/lib/python3.7/dist-packages (from requests[socks]->gdown) (1.7.1)\n",
            "Looking in indexes: https://pypi.org/simple, https://us-python.pkg.dev/colab-wheels/public/simple/\n",
            "Collecting pydna\n",
            "  Downloading pydna-4.0.7-py3-none-any.whl (111 kB)\n",
            "\u001b[K     |████████████████████████████████| 111 kB 4.3 MB/s \n",
            "\u001b[?25hRequirement already satisfied: pyparsing in /usr/local/lib/python3.7/dist-packages (from pydna) (3.0.9)\n",
            "Requirement already satisfied: biopython in /usr/local/lib/python3.7/dist-packages (from pydna) (1.79)\n",
            "Requirement already satisfied: appdirs in /usr/local/lib/python3.7/dist-packages (from pydna) (1.4.4)\n",
            "Requirement already satisfied: requests in /usr/local/lib/python3.7/dist-packages (from pydna) (2.23.0)\n",
            "Requirement already satisfied: networkx in /usr/local/lib/python3.7/dist-packages (from pydna) (2.6.3)\n",
            "Requirement already satisfied: prettytable in /usr/local/lib/python3.7/dist-packages (from pydna) (3.4.1)\n",
            "Requirement already satisfied: numpy in /usr/local/lib/python3.7/dist-packages (from biopython->pydna) (1.21.6)\n",
            "Requirement already satisfied: importlib-metadata in /usr/local/lib/python3.7/dist-packages (from prettytable->pydna) (5.0.0)\n",
            "Requirement already satisfied: wcwidth in /usr/local/lib/python3.7/dist-packages (from prettytable->pydna) (0.2.5)\n",
            "Requirement already satisfied: typing-extensions>=3.6.4 in /usr/local/lib/python3.7/dist-packages (from importlib-metadata->prettytable->pydna) (4.1.1)\n",
            "Requirement already satisfied: zipp>=0.5 in /usr/local/lib/python3.7/dist-packages (from importlib-metadata->prettytable->pydna) (3.9.0)\n",
            "Requirement already satisfied: idna<3,>=2.5 in /usr/local/lib/python3.7/dist-packages (from requests->pydna) (2.10)\n",
            "Requirement already satisfied: certifi>=2017.4.17 in /usr/local/lib/python3.7/dist-packages (from requests->pydna) (2022.9.24)\n",
            "Requirement already satisfied: urllib3!=1.25.0,!=1.25.1,<1.26,>=1.21.1 in /usr/local/lib/python3.7/dist-packages (from requests->pydna) (1.24.3)\n",
            "Requirement already satisfied: chardet<4,>=3.0.2 in /usr/local/lib/python3.7/dist-packages (from requests->pydna) (3.0.4)\n",
            "Installing collected packages: pydna\n",
            "Successfully installed pydna-4.0.7\n"
          ]
        }
      ]
    },
    {
      "cell_type": "code",
      "source": [
        "from google.colab import drive\n",
        "drive.mount('/content/gdrive')"
      ],
      "metadata": {
        "colab": {
          "base_uri": "https://localhost:8080/"
        },
        "id": "guoyJf-ZAW86",
        "outputId": "d8761843-15a9-4f1f-83d2-43530dc5f1ed"
      },
      "execution_count": 2,
      "outputs": [
        {
          "output_type": "stream",
          "name": "stdout",
          "text": [
            "Mounted at /content/gdrive\n"
          ]
        }
      ]
    },
    {
      "cell_type": "code",
      "source": [
        "from Bio import SeqIO\n",
        "import numpy as np\n",
        "import matplotlib.pyplot as plt\n",
        "import json\n",
        "import gdown\n",
        "import gc\n",
        "from pydna.assembly import Assembly\n",
        "from pydna.dseqrecord import Dseqrecord\n",
        "from pydna.design import primer_design, assembly_fragments\n",
        "%matplotlib inline"
      ],
      "metadata": {
        "id": "KSpl5_M8AW_a"
      },
      "execution_count": 3,
      "outputs": []
    },
    {
      "cell_type": "code",
      "source": [
        "url = 'https://drive.google.com/uc?id=1P-dkZg7Uy0NPdzUwY-a-qpTsNfw4FURX'\n",
        "output = 'salmonella-enterica.reads.fna'\n",
        "gdown.download(url, output, quiet=False)\n",
        "\n",
        "url = 'https://drive.google.com/uc?id=1Or3tTlBb98A8u84XaCEpZPiK-IOYjzgh'\n",
        "output = 'salmonella-enterica-variant.reads.fna'\n",
        "gdown.download(url, output, quiet=False)"
      ],
      "metadata": {
        "colab": {
          "base_uri": "https://localhost:8080/",
          "height": 174
        },
        "id": "KzngT1riAo9d",
        "outputId": "291963f3-0f19-4882-c1cb-41d482c27aec"
      },
      "execution_count": 4,
      "outputs": [
        {
          "output_type": "stream",
          "name": "stderr",
          "text": [
            "Downloading...\n",
            "From: https://drive.google.com/uc?id=1P-dkZg7Uy0NPdzUwY-a-qpTsNfw4FURX\n",
            "To: /content/salmonella-enterica.reads.fna\n",
            "100%|██████████| 523M/523M [00:02<00:00, 235MB/s]\n",
            "Downloading...\n",
            "From: https://drive.google.com/uc?id=1Or3tTlBb98A8u84XaCEpZPiK-IOYjzgh\n",
            "To: /content/salmonella-enterica-variant.reads.fna\n",
            "100%|██████████| 523M/523M [00:03<00:00, 170MB/s]\n"
          ]
        },
        {
          "output_type": "execute_result",
          "data": {
            "text/plain": [
              "'salmonella-enterica-variant.reads.fna'"
            ],
            "application/vnd.google.colaboratory.intrinsic+json": {
              "type": "string"
            }
          },
          "metadata": {},
          "execution_count": 4
        }
      ]
    },
    {
      "cell_type": "code",
      "source": [
        "def build_kmers(sequence, dict_kmers, ksize):\n",
        "    \"\"\"\n",
        "    Build k-mers from sequence\n",
        "    \"\"\" \n",
        "    for i in range(len(sequence) - ksize + 1):\n",
        "        kmer = sequence[i:i + ksize]\n",
        "        if kmer not in dict_kmers:\n",
        "            dict_kmers[kmer] = 0\n",
        "        dict_kmers[kmer] += 1\n",
        "    return\n",
        "\n",
        "def check_kmer(path, KSIZE):\n",
        "  \"\"\"\n",
        "  Return dict of KSIZEmers in genome, sequencing\n",
        "  representation of which is saved in path\n",
        "  \"\"\"\n",
        "  dict_kmers = {}\n",
        "  fasta_sequences = SeqIO.parse(open(path), 'fasta')\n",
        "  for fasta in fasta_sequences:\n",
        "    build_kmers(str(fasta.seq), dict_kmers, KSIZE)\n",
        "  return dict_kmers"
      ],
      "metadata": {
        "id": "EpF2ch6jAXB0"
      },
      "execution_count": 5,
      "outputs": []
    },
    {
      "cell_type": "code",
      "source": [
        "file_genome = \"./salmonella-enterica.reads.fna\"\n",
        "file_genome_var = \"./salmonella-enterica-variant.reads.fna\""
      ],
      "metadata": {
        "id": "BXZLtnwkawN5"
      },
      "execution_count": 6,
      "outputs": []
    },
    {
      "cell_type": "code",
      "source": [
        "dict_kmers_original = check_kmer(file_genome, KSIZE=25)\n",
        "dict_kmers_variant = check_kmer(file_genome_var, KSIZE=25)"
      ],
      "metadata": {
        "id": "OrV_1BIAAXEL"
      },
      "execution_count": 7,
      "outputs": []
    },
    {
      "cell_type": "code",
      "source": [
        "list_kmers_original = [dict_kmers_original[k] for k in dict_kmers_original.keys() if k not in dict_kmers_variant.keys()]\n",
        "list_kmers_variant = [dict_kmers_variant[k] for k in dict_kmers_variant.keys() if k not in dict_kmers_original.keys()]"
      ],
      "metadata": {
        "id": "Ti9xs3X0AXGl"
      },
      "execution_count": 8,
      "outputs": []
    },
    {
      "cell_type": "code",
      "source": [
        "plt.hist(list_kmers_original)\n",
        "plt.title(\"list_kmers_original\")"
      ],
      "metadata": {
        "colab": {
          "base_uri": "https://localhost:8080/",
          "height": 298
        },
        "id": "AE1Y566WffAq",
        "outputId": "b180906a-928f-4441-fae2-773507a73c65"
      },
      "execution_count": 9,
      "outputs": [
        {
          "output_type": "execute_result",
          "data": {
            "text/plain": [
              "Text(0.5, 1.0, 'list_kmers_original')"
            ]
          },
          "metadata": {},
          "execution_count": 9
        },
        {
          "output_type": "display_data",
          "data": {
            "text/plain": [
              "<Figure size 432x288 with 1 Axes>"
            ],
            "image/png": "[encoded data removed]"
          },
          "metadata": {
            "needs_background": "light"
          }
        }
      ]
    },
    {
      "cell_type": "code",
      "source": [
        "plt.hist(list_kmers_original, bins=range(5, 50), fc=(0, 0, 1, 0.5), label=\"Original\")\n",
        "plt.hist(list_kmers_variant, bins=range(5, 50), fc=(1, 0, 1, 0.5), label=\"Variable\")\n",
        "plt.legend()\n",
        "plt.show()"
      ],
      "metadata": {
        "colab": {
          "base_uri": "https://localhost:8080/",
          "height": 265
        },
        "id": "3I92xzVdbA8E",
        "outputId": "b67b6b7b-096d-4666-fb25-7d8ab49be14f"
      },
      "execution_count": 17,
      "outputs": [
        {
          "output_type": "display_data",
          "data": {
            "text/plain": [
              "<Figure size 432x288 with 1 Axes>"
            ],
            "image/png": "[encoded data removed]"
          },
          "metadata": {
            "needs_background": "light"
          }
        }
      ]
    },
    {
      "cell_type": "code",
      "source": [],
      "metadata": {
        "id": "oyzzxC2xbGEX"
      },
      "execution_count": null,
      "outputs": []
    },
    {
      "cell_type": "code",
      "source": [
        "kmers_assembly = [Dseqrecord(k) for k, f in dict_kmers_original.items() if ((f > 28) & (f < 34) & (k not in dict_kmers_variant))]"
      ],
      "metadata": {
        "id": "o62FZEMTGNjw"
      },
      "execution_count": 22,
      "outputs": []
    },
    {
      "cell_type": "code",
      "source": [
        "seq = Assembly(kmers_assembly, limit = 24).assemble_linear()\n",
        "print(seq[0].seq.watson)"
      ],
      "metadata": {
        "id": "ORqXQJ0HtIPE"
      },
      "execution_count": null,
      "outputs": []
    },
    {
      "cell_type": "code",
      "source": [
        "kmers_assembly_var = [Dseqrecord(k) for k, f in dict_kmers_variant.items() if ((f > 40) & (f < 50) & (k not in dict_kmers_original))]"
      ],
      "metadata": {
        "id": "HEBmoDsMGY1q"
      },
      "execution_count": null,
      "outputs": []
    },
    {
      "cell_type": "code",
      "source": [
        "seq_var = Assembly(kmers_assembly_var,limit = 22).assemble_linear()\n",
        "print(seq_var[0].seq.watson)"
      ],
      "metadata": {
        "id": "faucrk3PGZ3D"
      },
      "execution_count": null,
      "outputs": []
    },
    {
      "cell_type": "code",
      "source": [
        "kmers_assembly = [Dseqrecord(k) for k, f in dict_kmers_original.items() if ((f > 40) & (f < 42.5) & (k not in dict_kmers_variant))]"
      ],
      "metadata": {
        "id": "danw9NnXGbjb"
      },
      "execution_count": null,
      "outputs": []
    },
    {
      "cell_type": "code",
      "source": [
        "seq = Assembly(kmers_assembly,limit = 22).assemble_linear()\n",
        "print(seq[0].seq.watson)"
      ],
      "metadata": {
        "id": "9HB2oKS_GdVF"
      },
      "execution_count": null,
      "outputs": []
    },
    {
      "cell_type": "code",
      "source": [
        "kmers_assembly_var = [Dseqrecord(k) for k, f in dict_kmers_variant.items() if ((f > 30) & (f < 35) & (k not in dict_kmers_original))]"
      ],
      "metadata": {
        "id": "csWtb_cKGe0n"
      },
      "execution_count": null,
      "outputs": []
    },
    {
      "cell_type": "code",
      "source": [
        "seq_var = Assembly(kmers_assembly_var,limit = 22).assemble_linear()\n",
        "print(seq_var[0].seq.watson)"
      ],
      "metadata": {
        "id": "-UuA68vEGfof"
      },
      "execution_count": null,
      "outputs": []
    }
  ]
}